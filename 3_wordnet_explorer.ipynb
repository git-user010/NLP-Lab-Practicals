{
 "cells": [
  {
   "cell_type": "code",
   "execution_count": 1,
   "id": "53b7ac6e",
   "metadata": {},
   "outputs": [
    {
     "name": "stdout",
     "output_type": "stream",
     "text": [
      "Downloading NLTK resources...\n",
      "Downloads complete.\n"
     ]
    },
    {
     "name": "stderr",
     "output_type": "stream",
     "text": [
      "[nltk_data] Downloading package wordnet to\n",
      "[nltk_data]     C:\\Users\\tarru\\AppData\\Roaming\\nltk_data...\n",
      "[nltk_data]   Package wordnet is already up-to-date!\n"
     ]
    }
   ],
   "source": [
    "import nltk\n",
    "\n",
    "print(\"Downloading NLTK resources...\")\n",
    "nltk.download('wordnet')\n",
    "print(\"Downloads complete.\")"
   ]
  },
  {
   "cell_type": "code",
   "execution_count": null,
   "id": "2e07bfc5",
   "metadata": {},
   "outputs": [],
   "source": [
    "from nltk.corpus import wordnet as wn\n",
    "\n",
    "words_to_analyze = [\"bank\", \"interest\", \"market\"]\n",
    "\n",
    "for word in words_to_analyze:\n",
    "    print(f\"{'='*15} Analysis for '{word.upper()}' {'='*15}\")\n",
    "    for synset in wn.synsets(word):\n",
    "        print(f\"-- Synset: {synset.name()} (POS: {synset.pos()}) --\")\n",
    "        \n",
    "        print(f\"   Definition: {synset.definition()}\")\n",
    "        print(f\"   Examples: {synset.examples()}\")\n",
    "        \n",
    "        synonyms = set()\n",
    "        antonyms = set()\n",
    "        \n",
    "        for lemma in synset.lemmas():\n",
    "            synonyms.add(lemma.name())\n",
    "            if lemma.antonyms():\n",
    "                antonyms.add(lemma.antonyms()[0].name())\n",
    "        \n",
    "        print(f\"   Synonyms: {list(synonyms)}\")\n",
    "        if antonyms:\n",
    "            print(f\"   Antonyms: {list(antonyms)}\")"
   ]
  },
  {
   "cell_type": "code",
   "execution_count": null,
   "id": "88f06da8",
   "metadata": {},
   "outputs": [],
   "source": []
  }
 ],
 "metadata": {
  "kernelspec": {
   "display_name": "Python 3",
   "language": "python",
   "name": "python3"
  },
  "language_info": {
   "codemirror_mode": {
    "name": "ipython",
    "version": 3
   },
   "file_extension": ".py",
   "mimetype": "text/x-python",
   "name": "python",
   "nbconvert_exporter": "python",
   "pygments_lexer": "ipython3",
   "version": "3.11.9"
  }
 },
 "nbformat": 4,
 "nbformat_minor": 5
}
