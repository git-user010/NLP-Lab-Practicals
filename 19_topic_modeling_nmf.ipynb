{
 "cells": [
  {
   "cell_type": "code",
   "execution_count": 1,
   "id": "bba3cacd",
   "metadata": {},
   "outputs": [
    {
     "name": "stdout",
     "output_type": "stream",
     "text": [
      "Downloading NLTK resources...\n",
      "Downloads complete.\n"
     ]
    }
   ],
   "source": [
    "# !pip install scikit-learn nltk\n",
    "\n",
    "import nltk\n",
    "import re\n",
    "from sklearn.feature_extraction.text import TfidfVectorizer\n",
    "from sklearn.decomposition import NMF\n",
    "\n",
    "print(\"Downloading NLTK resources...\")\n",
    "nltk.download('stopwords', quiet=True)\n",
    "nltk.download('wordnet', quiet=True)\n",
    "print(\"Downloads complete.\")"
   ]
  },
  {
   "cell_type": "code",
   "execution_count": 2,
   "id": "222b9533",
   "metadata": {},
   "outputs": [],
   "source": [
    "from nltk.corpus import stopwords\n",
    "from nltk.stem import WordNetLemmatizer\n",
    "from nltk.tokenize import word_tokenize\n",
    "\n",
    "# Initialize components for text cleaning\n",
    "lemmatizer = WordNetLemmatizer()\n",
    "stop_words = set(stopwords.words('english'))"
   ]
  },
  {
   "cell_type": "code",
   "execution_count": 3,
   "id": "4c293973",
   "metadata": {},
   "outputs": [
    {
     "name": "stdout",
     "output_type": "stream",
     "text": [
      "--- Original Corpus ---\n",
      "Sugar is bad to consume. My sister likes to have sugar, but not my father.\n",
      "My father spends a lot of time driving my sister around to dance practice.\n",
      "Doctors suggest that driving may cause increased stress and blood pressure.\n",
      "Sometimes I feel pressure to perform well at school, but my father never seems to drive my sister to do better.\n",
      "Health experts say that Sugar is not good for your lifestyle.\n"
     ]
    }
   ],
   "source": [
    "doc1 = \"Sugar is bad to consume. My sister likes to have sugar, but not my father.\"\n",
    "doc2 = \"My father spends a lot of time driving my sister around to dance practice.\"\n",
    "doc3 = \"Doctors suggest that driving may cause increased stress and blood pressure.\"\n",
    "doc4 = \"Sometimes I feel pressure to perform well at school, but my father never seems to drive my sister to do better.\"\n",
    "doc5 = \"Health experts say that Sugar is not good for your lifestyle.\"\n",
    "\n",
    "doc_complete = [doc1, doc2, doc3, doc4, doc5]\n",
    "\n",
    "print(\"--- Original Corpus ---\")\n",
    "for doc in doc_complete:\n",
    "    print(doc)"
   ]
  },
  {
   "cell_type": "code",
   "execution_count": 4,
   "id": "11ea7d9e",
   "metadata": {},
   "outputs": [
    {
     "name": "stdout",
     "output_type": "stream",
     "text": [
      "\n",
      "--- Processed Corpus (Cleaned Strings) ---\n",
      "sugar bad consume sister like sugar father\n",
      "father spends lot time driving sister around dance practice\n",
      "doctor suggest driving may cause increased stress blood pressure\n",
      "sometimes feel pressure perform well school father never seems drive sister better\n",
      "health expert say sugar good lifestyle\n"
     ]
    }
   ],
   "source": [
    "def preprocess_doc(text):\n",
    "    text = text.lower()\n",
    "    tokens = word_tokenize(text)\n",
    "    clean_tokens = [word for word in tokens if word.isalpha() and word not in stop_words]\n",
    "    lemmatized_tokens = [lemmatizer.lemmatize(word) for word in clean_tokens]\n",
    "    return \" \".join(lemmatized_tokens)\n",
    "\n",
    "doc_clean = [preprocess_doc(doc) for doc in doc_complete]\n",
    "\n",
    "print(\"\\n--- Processed Corpus (Cleaned Strings) ---\")\n",
    "for doc in doc_clean:\n",
    "    print(doc)"
   ]
  },
  {
   "cell_type": "code",
   "execution_count": 5,
   "id": "6639b907",
   "metadata": {},
   "outputs": [
    {
     "name": "stdout",
     "output_type": "stream",
     "text": [
      "--- TF-IDF Feature Matrix Shape ---\n",
      "(5, 35)\n"
     ]
    }
   ],
   "source": [
    "tfidf_vectorizer = TfidfVectorizer()\n",
    "\n",
    "tfidf_matrix = tfidf_vectorizer.fit_transform(doc_clean)\n",
    "\n",
    "print(\"--- TF-IDF Feature Matrix Shape ---\")\n",
    "print(tfidf_matrix.shape)"
   ]
  },
  {
   "cell_type": "code",
   "execution_count": 6,
   "id": "ef7b588d",
   "metadata": {},
   "outputs": [
    {
     "name": "stdout",
     "output_type": "stream",
     "text": [
      "NMF Model trained to find 2 topics.\n"
     ]
    }
   ],
   "source": [
    "num_topics = 2\n",
    "\n",
    "nmf_model = NMF(\n",
    "    n_components=num_topics,\n",
    "    random_state=42\n",
    ")\n",
    "nmf_model.fit(tfidf_matrix)\n",
    "\n",
    "print(f\"NMF Model trained to find {num_topics} topics.\")"
   ]
  },
  {
   "cell_type": "code",
   "execution_count": 7,
   "id": "bb129017",
   "metadata": {},
   "outputs": [
    {
     "name": "stdout",
     "output_type": "stream",
     "text": [
      "\n",
      "--- Top 2 Topics Identified by NMF ---\n",
      "Topic 1:\n",
      "sugar lifestyle good expert\n",
      "Topic 2:\n",
      "driving pressure father sister\n"
     ]
    }
   ],
   "source": [
    "def display_topics(model, feature_names, num_top_words):\n",
    "    for topic_idx, topic in enumerate(model.components_):\n",
    "        print(f\"Topic {topic_idx + 1}:\")\n",
    "        top_words = [feature_names[i] for i in topic.argsort()[:-num_top_words - 1:-1]]\n",
    "        print(\" \".join(top_words))\n",
    "\n",
    "feature_names = tfidf_vectorizer.get_feature_names_out()\n",
    "\n",
    "print(f\"\\n--- Top {num_topics} Topics Identified by NMF ---\")\n",
    "display_topics(nmf_model, feature_names, 4)"
   ]
  },
  {
   "cell_type": "code",
   "execution_count": null,
   "id": "ecc747fc",
   "metadata": {},
   "outputs": [],
   "source": []
  }
 ],
 "metadata": {
  "kernelspec": {
   "display_name": "Python 3",
   "language": "python",
   "name": "python3"
  },
  "language_info": {
   "codemirror_mode": {
    "name": "ipython",
    "version": 3
   },
   "file_extension": ".py",
   "mimetype": "text/x-python",
   "name": "python",
   "nbconvert_exporter": "python",
   "pygments_lexer": "ipython3",
   "version": "3.11.9"
  }
 },
 "nbformat": 4,
 "nbformat_minor": 5
}
