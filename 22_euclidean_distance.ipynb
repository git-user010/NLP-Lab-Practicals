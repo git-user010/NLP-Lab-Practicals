{
 "cells": [
  {
   "cell_type": "code",
   "execution_count": 1,
   "id": "64a08345",
   "metadata": {},
   "outputs": [
    {
     "name": "stdout",
     "output_type": "stream",
     "text": [
      "Downloading NLTK resources...\n",
      "Downloads complete.\n"
     ]
    }
   ],
   "source": [
    "import nltk\n",
    "import math\n",
    "\n",
    "# Download the necessary NLTK data packages\n",
    "print(\"Downloading NLTK resources...\")\n",
    "nltk.download('punkt', quiet=True)\n",
    "nltk.download('stopwords', quiet=True)\n",
    "print(\"Downloads complete.\")"
   ]
  },
  {
   "cell_type": "code",
   "execution_count": 2,
   "id": "73e11ca7",
   "metadata": {},
   "outputs": [],
   "source": [
    "from nltk.corpus import stopwords\n",
    "from nltk.tokenize import word_tokenize"
   ]
  },
  {
   "cell_type": "code",
   "execution_count": 3,
   "id": "b9f78516",
   "metadata": {},
   "outputs": [
    {
     "name": "stdout",
     "output_type": "stream",
     "text": [
      "Sentence 1: 'The quick brown fox jumps over the lazy dog'\n",
      "Sentence 2: 'A fast brown fox leaps over a sleepy dog'\n"
     ]
    }
   ],
   "source": [
    "sentence1 = \"The quick brown fox jumps over the lazy dog\"\n",
    "sentence2 = \"A fast brown fox leaps over a sleepy dog\"\n",
    "\n",
    "print(f\"Sentence 1: '{sentence1}'\")\n",
    "print(f\"Sentence 2: '{sentence2}'\")"
   ]
  },
  {
   "cell_type": "code",
   "execution_count": 4,
   "id": "877cf891",
   "metadata": {},
   "outputs": [
    {
     "name": "stdout",
     "output_type": "stream",
     "text": [
      "Processed tokens for Sentence 1: {'jumps', 'fox', 'quick', 'dog', 'lazy', 'brown'}\n",
      "Processed tokens for Sentence 2: {'fox', 'dog', 'fast', 'brown', 'sleepy', 'leaps'}\n"
     ]
    }
   ],
   "source": [
    "stop_words = set(stopwords.words('english'))\n",
    "\n",
    "tokens1 = word_tokenize(sentence1.lower())\n",
    "filtered_tokens1 = {word for word in tokens1 if word.isalpha() and word not in stop_words}\n",
    "\n",
    "tokens2 = word_tokenize(sentence2.lower())\n",
    "filtered_tokens2 = {word for word in tokens2 if word.isalpha() and word not in stop_words}\n",
    "\n",
    "print(f\"Processed tokens for Sentence 1: {filtered_tokens1}\")\n",
    "print(f\"Processed tokens for Sentence 2: {filtered_tokens2}\")"
   ]
  },
  {
   "cell_type": "code",
   "execution_count": 5,
   "id": "043cc3c9",
   "metadata": {},
   "outputs": [
    {
     "name": "stdout",
     "output_type": "stream",
     "text": [
      "\n",
      "Combined Vocabulary: {'jumps', 'fox', 'quick', 'dog', 'fast', 'lazy', 'sleepy', 'leaps', 'brown'}\n",
      "\n",
      "Vector for Sentence 1: [1, 1, 1, 1, 0, 1, 0, 0, 1]\n",
      "Vector for Sentence 2: [0, 1, 0, 1, 1, 0, 1, 1, 1]\n"
     ]
    }
   ],
   "source": [
    "vocabulary = filtered_tokens1.union(filtered_tokens2)\n",
    "print(f\"\\nCombined Vocabulary: {vocabulary}\")\n",
    "\n",
    "vector1 = []\n",
    "vector2 = []\n",
    "\n",
    "for word in vocabulary:\n",
    "    vector1.append(1 if word in filtered_tokens1 else 0)\n",
    "    vector2.append(1 if word in filtered_tokens2 else 0)\n",
    "\n",
    "print(f\"\\nVector for Sentence 1: {vector1}\")\n",
    "print(f\"Vector for Sentence 2: {vector2}\")"
   ]
  },
  {
   "cell_type": "code",
   "execution_count": 6,
   "id": "3d573fb7",
   "metadata": {},
   "outputs": [
    {
     "name": "stdout",
     "output_type": "stream",
     "text": [
      "\n",
      "--- Euclidean Distance Calculation ---\n",
      "Sum of Squared Differences: 6\n",
      "Euclidean Distance: 2.4495\n",
      "\n",
      "Interpretation: A lower distance indicates higher similarity.\n"
     ]
    }
   ],
   "source": [
    "sum_of_squared_diff = sum([(vector1[i] - vector2[i])**2 for i in range(len(vocabulary))])\n",
    "\n",
    "euclidean_distance = math.sqrt(sum_of_squared_diff)\n",
    "\n",
    "\n",
    "print(f\"\\n--- Euclidean Distance Calculation ---\")\n",
    "print(f\"Sum of Squared Differences: {sum_of_squared_diff}\")\n",
    "print(f\"Euclidean Distance: {euclidean_distance:.4f}\")\n",
    "\n",
    "print(\"\\nInterpretation: A lower distance indicates higher similarity.\")"
   ]
  },
  {
   "cell_type": "code",
   "execution_count": null,
   "id": "20f0b124",
   "metadata": {},
   "outputs": [],
   "source": []
  }
 ],
 "metadata": {
  "kernelspec": {
   "display_name": "Python 3",
   "language": "python",
   "name": "python3"
  },
  "language_info": {
   "codemirror_mode": {
    "name": "ipython",
    "version": 3
   },
   "file_extension": ".py",
   "mimetype": "text/x-python",
   "name": "python",
   "nbconvert_exporter": "python",
   "pygments_lexer": "ipython3",
   "version": "3.11.9"
  }
 },
 "nbformat": 4,
 "nbformat_minor": 5
}
