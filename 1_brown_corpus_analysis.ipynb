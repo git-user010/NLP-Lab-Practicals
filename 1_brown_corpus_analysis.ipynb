{
 "cells": [
  {
   "cell_type": "code",
   "execution_count": 1,
   "id": "938e0618",
   "metadata": {},
   "outputs": [
    {
     "name": "stdout",
     "output_type": "stream",
     "text": [
      "Downloading NLTK resources...\n",
      "Downloads complete.\n"
     ]
    },
    {
     "name": "stderr",
     "output_type": "stream",
     "text": [
      "[nltk_data] Downloading package brown to\n",
      "[nltk_data]     C:\\Users\\tarru\\AppData\\Roaming\\nltk_data...\n",
      "[nltk_data]   Package brown is already up-to-date!\n",
      "[nltk_data] Downloading package punkt to\n",
      "[nltk_data]     C:\\Users\\tarru\\AppData\\Roaming\\nltk_data...\n",
      "[nltk_data]   Package punkt is already up-to-date!\n",
      "[nltk_data] Downloading package averaged_perceptron_tagger to\n",
      "[nltk_data]     C:\\Users\\tarru\\AppData\\Roaming\\nltk_data...\n",
      "[nltk_data]   Package averaged_perceptron_tagger is already up-to-\n",
      "[nltk_data]       date!\n"
     ]
    }
   ],
   "source": [
    "import nltk\n",
    "\n",
    "print(\"Downloading NLTK resources...\")\n",
    "nltk.download('brown')\n",
    "nltk.download('punkt')\n",
    "nltk.download('averaged_perceptron_tagger')\n",
    "print(\"Downloads complete.\")"
   ]
  },
  {
   "cell_type": "code",
   "execution_count": 2,
   "id": "cbe99e6b",
   "metadata": {},
   "outputs": [
    {
     "name": "stdout",
     "output_type": "stream",
     "text": [
      "--- Categories in Brown Corpus ---\n",
      "['adventure', 'belles_lettres', 'editorial', 'fiction', 'government', 'hobbies', 'humor', 'learned', 'lore', 'mystery', 'news', 'religion', 'reviews', 'romance', 'science_fiction']\n"
     ]
    }
   ],
   "source": [
    "from nltk.corpus import brown\n",
    "\n",
    "print('--- Categories in Brown Corpus ---')\n",
    "print(brown.categories())"
   ]
  },
  {
   "cell_type": "code",
   "execution_count": 3,
   "id": "2d868717",
   "metadata": {},
   "outputs": [
    {
     "name": "stdout",
     "output_type": "stream",
     "text": [
      "--- Word Tokenization ---\n",
      "Total words in 'news' category: 100554\n",
      "First 20 words: ['The', 'Fulton', 'County', 'Grand', 'Jury', 'said', 'Friday', 'an', 'investigation', 'of', \"Atlanta's\", 'recent', 'primary', 'election', 'produced', '``', 'no', 'evidence', \"''\", 'that']\n"
     ]
    }
   ],
   "source": [
    "print(\"--- Word Tokenization ---\")\n",
    "news_words = brown.words(categories='news')\n",
    "print(\"Total words in 'news' category:\", len(news_words))\n",
    "print(\"First 20 words:\", news_words[:20])"
   ]
  },
  {
   "cell_type": "code",
   "execution_count": 4,
   "id": "8d050cfb",
   "metadata": {},
   "outputs": [
    {
     "name": "stdout",
     "output_type": "stream",
     "text": [
      "--- POS Tagging ---\n",
      "First 10 tagged words: [('The', 'AT'), ('Fulton', 'NP-TL'), ('County', 'NN-TL'), ('Grand', 'JJ-TL'), ('Jury', 'NN-TL'), ('said', 'VBD'), ('Friday', 'NR'), ('an', 'AT'), ('investigation', 'NN'), ('of', 'IN')]\n"
     ]
    }
   ],
   "source": [
    "print(\"--- POS Tagging ---\")\n",
    "tagged_words = brown.tagged_words(categories='news')\n",
    "print(\"First 10 tagged words:\", tagged_words[:10])"
   ]
  },
  {
   "cell_type": "code",
   "execution_count": 5,
   "id": "cc048177",
   "metadata": {},
   "outputs": [
    {
     "name": "stdout",
     "output_type": "stream",
     "text": [
      "--- Frequency Distribution ---\n",
      "Most common 15 words in 'news' category:\n"
     ]
    },
    {
     "data": {
      "text/plain": [
       "[('the', 6386),\n",
       " (',', 5188),\n",
       " ('.', 4030),\n",
       " ('of', 2861),\n",
       " ('and', 2186),\n",
       " ('to', 2144),\n",
       " ('a', 2130),\n",
       " ('in', 2020),\n",
       " ('for', 969),\n",
       " ('that', 829),\n",
       " ('is', 733),\n",
       " ('``', 732),\n",
       " ('was', 717),\n",
       " (\"''\", 702),\n",
       " ('on', 691)]"
      ]
     },
     "execution_count": 5,
     "metadata": {},
     "output_type": "execute_result"
    }
   ],
   "source": [
    "print(\"--- Frequency Distribution ---\")\n",
    "word_freq = nltk.FreqDist(w.lower() for w in news_words)\n",
    "print(\"Most common 15 words in 'news' category:\")\n",
    "word_freq.most_common(15)"
   ]
  },
  {
   "cell_type": "code",
   "execution_count": null,
   "id": "4e3213a2",
   "metadata": {},
   "outputs": [],
   "source": []
  }
 ],
 "metadata": {
  "kernelspec": {
   "display_name": "Python 3",
   "language": "python",
   "name": "python3"
  },
  "language_info": {
   "codemirror_mode": {
    "name": "ipython",
    "version": 3
   },
   "file_extension": ".py",
   "mimetype": "text/x-python",
   "name": "python",
   "nbconvert_exporter": "python",
   "pygments_lexer": "ipython3",
   "version": "3.11.9"
  }
 },
 "nbformat": 4,
 "nbformat_minor": 5
}
