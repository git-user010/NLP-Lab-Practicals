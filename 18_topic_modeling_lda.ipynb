{
 "cells": [
  {
   "cell_type": "code",
   "execution_count": 1,
   "id": "4bb5254b",
   "metadata": {},
   "outputs": [
    {
     "name": "stdout",
     "output_type": "stream",
     "text": [
      "Downloading NLTK resources...\n",
      "Downloads complete.\n"
     ]
    },
    {
     "name": "stderr",
     "output_type": "stream",
     "text": [
      "[nltk_data] Downloading package stopwords to\n",
      "[nltk_data]     C:\\Users\\tarru\\AppData\\Roaming\\nltk_data...\n",
      "[nltk_data]   Package stopwords is already up-to-date!\n",
      "[nltk_data] Downloading package wordnet to\n",
      "[nltk_data]     C:\\Users\\tarru\\AppData\\Roaming\\nltk_data...\n",
      "[nltk_data]   Package wordnet is already up-to-date!\n"
     ]
    }
   ],
   "source": [
    "# !pip install gensim nltk\n",
    "\n",
    "import gensim\n",
    "from gensim import corpora\n",
    "from gensim.models import LdaModel\n",
    "import nltk\n",
    "import string\n",
    "\n",
    "print(\"Downloading NLTK resources...\")\n",
    "nltk.download('stopwords')\n",
    "nltk.download('wordnet')\n",
    "print(\"Downloads complete.\")"
   ]
  },
  {
   "cell_type": "code",
   "execution_count": 2,
   "id": "fc0d18be",
   "metadata": {},
   "outputs": [],
   "source": [
    "from nltk.corpus import stopwords\n",
    "from nltk.stem.wordnet import WordNetLemmatizer\n",
    "\n",
    "stop_words = set(stopwords.words('english'))\n",
    "punctuation = set(string.punctuation)\n",
    "lemmatizer = WordNetLemmatizer()"
   ]
  },
  {
   "cell_type": "code",
   "execution_count": 3,
   "id": "da79741f",
   "metadata": {},
   "outputs": [
    {
     "name": "stdout",
     "output_type": "stream",
     "text": [
      "--- Original Corpus ---\n",
      "Sugar is bad to consume. My sister likes to have sugar, but not my father.\n",
      "My father spends a lot of time driving my sister around to dance practice.\n",
      "Doctors suggest that driving may cause increased stress and blood pressure.\n",
      "Sometimes I feel pressure to perform well at school, but my father never seems to drive my sister to do better.\n",
      "Health experts say that Sugar is not good for your lifestyle.\n"
     ]
    }
   ],
   "source": [
    "doc1 = \"Sugar is bad to consume. My sister likes to have sugar, but not my father.\"\n",
    "doc2 = \"My father spends a lot of time driving my sister around to dance practice.\"\n",
    "doc3 = \"Doctors suggest that driving may cause increased stress and blood pressure.\"\n",
    "doc4 = \"Sometimes I feel pressure to perform well at school, but my father never seems to drive my sister to do better.\"\n",
    "doc5 = \"Health experts say that Sugar is not good for your lifestyle.\"\n",
    "\n",
    "doc_complete = [doc1, doc2, doc3, doc4, doc5]\n",
    "\n",
    "print(\"--- Original Corpus ---\")\n",
    "for doc in doc_complete:\n",
    "    print(doc)"
   ]
  },
  {
   "cell_type": "code",
   "execution_count": 4,
   "id": "065b52fc",
   "metadata": {},
   "outputs": [
    {
     "name": "stdout",
     "output_type": "stream",
     "text": [
      "\n",
      "--- Processed Corpus (List of Tokens) ---\n",
      "['sugar', 'bad', 'consume', 'sister', 'like', 'sugar', 'father']\n",
      "['father', 'spends', 'lot', 'time', 'driving', 'sister', 'around', 'dance', 'practice']\n",
      "['doctor', 'suggest', 'driving', 'may', 'cause', 'increased', 'stress', 'blood', 'pressure']\n",
      "['sometimes', 'feel', 'pressure', 'perform', 'well', 'school', 'father', 'never', 'seems', 'drive', 'sister', 'better']\n",
      "['health', 'expert', 'say', 'sugar', 'good', 'lifestyle']\n"
     ]
    }
   ],
   "source": [
    "def preprocess_doc(doc):\n",
    "    stop_free = \" \".join([word for word in doc.lower().split() if word not in stop_words])\n",
    "    punc_free = \"\".join(char for char in stop_free if char not in punctuation)\n",
    "    normalized = \" \".join(lemmatizer.lemmatize(word) for word in punc_free.split())\n",
    "    return normalized.split()\n",
    "\n",
    "doc_clean = [preprocess_doc(doc) for doc in doc_complete]\n",
    "\n",
    "print(\"\\n--- Processed Corpus (List of Tokens) ---\")\n",
    "for doc in doc_clean:\n",
    "    print(doc)"
   ]
  },
  {
   "cell_type": "code",
   "execution_count": 5,
   "id": "f3a57190",
   "metadata": {},
   "outputs": [
    {
     "name": "stdout",
     "output_type": "stream",
     "text": [
      "--- Gensim Dictionary (Sample) ---\n",
      "{0: 'bad', 1: 'consume', 2: 'father', 3: 'like', 4: 'sister'}\n",
      "\n",
      "--- Bag-of-Words Corpus (Document 1) ---\n",
      "[(0, 1), (1, 1), (2, 1), (3, 1), (4, 1), (5, 2)]\n"
     ]
    }
   ],
   "source": [
    "dictionary = corpora.Dictionary(doc_clean)\n",
    "\n",
    "doc_term_matrix = [dictionary.doc2bow(doc) for doc in doc_clean]\n",
    "\n",
    "print(\"--- Gensim Dictionary (Sample) ---\")\n",
    "print({k: dictionary[k] for k in range(5)})\n",
    "\n",
    "print(\"\\n--- Bag-of-Words Corpus (Document 1) ---\")\n",
    "print(doc_term_matrix[0])"
   ]
  },
  {
   "cell_type": "code",
   "execution_count": 6,
   "id": "25d79b35",
   "metadata": {},
   "outputs": [
    {
     "name": "stdout",
     "output_type": "stream",
     "text": [
      "LDA Model trained to find 3 topics.\n"
     ]
    }
   ],
   "source": [
    "ldamodel = LdaModel(\n",
    "    doc_term_matrix, \n",
    "    num_topics=3, \n",
    "    id2word=dictionary, \n",
    "    passes=50, \n",
    "    random_state=42\n",
    ")\n",
    "\n",
    "print(\"LDA Model trained to find 3 topics.\")"
   ]
  },
  {
   "cell_type": "code",
   "execution_count": 7,
   "id": "c571fcdd",
   "metadata": {},
   "outputs": [
    {
     "name": "stdout",
     "output_type": "stream",
     "text": [
      "--- Top 3 Topics Identified by LDA ---\n",
      "Topic 1: 0.135*\"sugar\" + 0.054*\"like\" + 0.054*\"consume\"\n",
      "Topic 2: 0.079*\"driving\" + 0.045*\"cause\" + 0.045*\"increased\"\n",
      "Topic 3: 0.057*\"sister\" + 0.057*\"father\" + 0.056*\"pressure\"\n"
     ]
    }
   ],
   "source": [
    "print(f\"--- Top 3 Topics Identified by LDA ---\")\n",
    "\n",
    "topics = ldamodel.print_topics(num_topics=3, num_words=3)\n",
    "\n",
    "for i, topic in enumerate(topics):\n",
    "    print(f\"Topic {i+1}: {topic[1]}\")"
   ]
  },
  {
   "cell_type": "code",
   "execution_count": null,
   "id": "50e8b1fe",
   "metadata": {},
   "outputs": [],
   "source": []
  }
 ],
 "metadata": {
  "kernelspec": {
   "display_name": "Python 3",
   "language": "python",
   "name": "python3"
  },
  "language_info": {
   "codemirror_mode": {
    "name": "ipython",
    "version": 3
   },
   "file_extension": ".py",
   "mimetype": "text/x-python",
   "name": "python",
   "nbconvert_exporter": "python",
   "pygments_lexer": "ipython3",
   "version": "3.11.9"
  }
 },
 "nbformat": 4,
 "nbformat_minor": 5
}
