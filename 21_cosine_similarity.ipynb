{
 "cells": [
  {
   "cell_type": "code",
   "execution_count": 1,
   "id": "469f43d4",
   "metadata": {},
   "outputs": [
    {
     "name": "stdout",
     "output_type": "stream",
     "text": [
      "Downloading NLTK resources...\n",
      "Downloads complete.\n"
     ]
    }
   ],
   "source": [
    "import nltk\n",
    "\n",
    "print(\"Downloading NLTK resources...\")\n",
    "nltk.download('punkt', quiet=True)\n",
    "nltk.download('stopwords', quiet=True)\n",
    "print(\"Downloads complete.\")"
   ]
  },
  {
   "cell_type": "code",
   "execution_count": 2,
   "id": "3346cf17",
   "metadata": {},
   "outputs": [],
   "source": [
    "from nltk.corpus import stopwords\n",
    "from nltk.tokenize import word_tokenize\n",
    "import math"
   ]
  },
  {
   "cell_type": "code",
   "execution_count": 3,
   "id": "99726b5b",
   "metadata": {},
   "outputs": [
    {
     "name": "stdout",
     "output_type": "stream",
     "text": [
      "Sentence 1: 'I love horror movies'\n",
      "Sentence 2: 'Lights out is a horror movie'\n"
     ]
    }
   ],
   "source": [
    "sentence1 = \"I love horror movies\"\n",
    "sentence2 = \"Lights out is a horror movie\" #\n",
    "\n",
    "print(f\"Sentence 1: '{sentence1}'\")\n",
    "print(f\"Sentence 2: '{sentence2}'\")"
   ]
  },
  {
   "cell_type": "code",
   "execution_count": 4,
   "id": "a9e89b5f",
   "metadata": {},
   "outputs": [
    {
     "name": "stdout",
     "output_type": "stream",
     "text": [
      "Processed tokens for Sentence 1: {'movies', 'horror', 'love'}\n",
      "Processed tokens for Sentence 2: {'horror', 'movie', 'lights'}\n"
     ]
    }
   ],
   "source": [
    "stop_words = set(stopwords.words('english'))\n",
    "\n",
    "tokens1 = word_tokenize(sentence1.lower())\n",
    "filtered_tokens1 = {word for word in tokens1 if word.isalpha() and word not in stop_words}\n",
    "\n",
    "tokens2 = word_tokenize(sentence2.lower())\n",
    "filtered_tokens2 = {word for word in tokens2 if word.isalpha() and word not in stop_words}\n",
    "\n",
    "print(f\"Processed tokens for Sentence 1: {filtered_tokens1}\")\n",
    "print(f\"Processed tokens for Sentence 2: {filtered_tokens2}\")"
   ]
  },
  {
   "cell_type": "code",
   "execution_count": 5,
   "id": "0807600f",
   "metadata": {},
   "outputs": [
    {
     "name": "stdout",
     "output_type": "stream",
     "text": [
      "\n",
      "Combined Vocabulary: {'movies', 'horror', 'love', 'lights', 'movie'}\n",
      "\n",
      "Vector for Sentence 1: [1, 1, 1, 0, 0]\n",
      "Vector for Sentence 2: [0, 1, 0, 1, 1]\n"
     ]
    }
   ],
   "source": [
    "vocabulary = filtered_tokens1.union(filtered_tokens2)\n",
    "print(f\"\\nCombined Vocabulary: {vocabulary}\")\n",
    "\n",
    "vector1 = []\n",
    "vector2 = []\n",
    "\n",
    "for word in vocabulary:\n",
    "    vector1.append(1 if word in filtered_tokens1 else 0)\n",
    "    vector2.append(1 if word in filtered_tokens2 else 0)\n",
    "\n",
    "print(f\"\\nVector for Sentence 1: {vector1}\")\n",
    "print(f\"Vector for Sentence 2: {vector2}\")"
   ]
  },
  {
   "cell_type": "code",
   "execution_count": 6,
   "id": "dd3a74fe",
   "metadata": {},
   "outputs": [
    {
     "name": "stdout",
     "output_type": "stream",
     "text": [
      "\n",
      "Dot Product: 1\n",
      "Magnitude of Vector 1: 1.7321\n",
      "Magnitude of Vector 2: 1.7321\n",
      "\n",
      "--- Cosine Similarity Score ---\n",
      "0.3333\n"
     ]
    }
   ],
   "source": [
    "dot_product = sum(vector1[i] * vector2[i] for i in range(len(vocabulary)))\n",
    "\n",
    "magnitude1 = math.sqrt(sum(val**2 for val in vector1))\n",
    "\n",
    "magnitude2 = math.sqrt(sum(val**2 for val in vector2))\n",
    "\n",
    "if magnitude1 == 0 or magnitude2 == 0:\n",
    "    cosine_similarity = 0.0\n",
    "else:\n",
    "    cosine_similarity = dot_product / (magnitude1 * magnitude2)\n",
    "\n",
    "print(f\"\\nDot Product: {dot_product}\")\n",
    "print(f\"Magnitude of Vector 1: {magnitude1:.4f}\")\n",
    "print(f\"Magnitude of Vector 2: {magnitude2:.4f}\")\n",
    "\n",
    "print(f\"\\n--- Cosine Similarity Score ---\")\n",
    "print(f\"{cosine_similarity:.4f}\")"
   ]
  },
  {
   "cell_type": "code",
   "execution_count": null,
   "id": "b0bacbec",
   "metadata": {},
   "outputs": [],
   "source": []
  }
 ],
 "metadata": {
  "kernelspec": {
   "display_name": "Python 3",
   "language": "python",
   "name": "python3"
  },
  "language_info": {
   "codemirror_mode": {
    "name": "ipython",
    "version": 3
   },
   "file_extension": ".py",
   "mimetype": "text/x-python",
   "name": "python",
   "nbconvert_exporter": "python",
   "pygments_lexer": "ipython3",
   "version": "3.11.9"
  }
 },
 "nbformat": 4,
 "nbformat_minor": 5
}
