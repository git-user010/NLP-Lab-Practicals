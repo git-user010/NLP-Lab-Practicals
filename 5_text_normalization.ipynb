{
 "cells": [
  {
   "cell_type": "code",
   "execution_count": 1,
   "id": "8d4197a8",
   "metadata": {},
   "outputs": [
    {
     "name": "stdout",
     "output_type": "stream",
     "text": [
      "Downloading NLTK resources...\n",
      "Downloads complete.\n"
     ]
    },
    {
     "name": "stderr",
     "output_type": "stream",
     "text": [
      "[nltk_data] Downloading package punkt to\n",
      "[nltk_data]     C:\\Users\\tarru\\AppData\\Roaming\\nltk_data...\n",
      "[nltk_data]   Package punkt is already up-to-date!\n",
      "[nltk_data] Downloading package stopwords to\n",
      "[nltk_data]     C:\\Users\\tarru\\AppData\\Roaming\\nltk_data...\n",
      "[nltk_data]   Package stopwords is already up-to-date!\n",
      "[nltk_data] Downloading package wordnet to\n",
      "[nltk_data]     C:\\Users\\tarru\\AppData\\Roaming\\nltk_data...\n",
      "[nltk_data]   Package wordnet is already up-to-date!\n"
     ]
    }
   ],
   "source": [
    "import nltk\n",
    "import re\n",
    "\n",
    "print(\"Downloading NLTK resources...\")\n",
    "nltk.download('punkt')\n",
    "nltk.download('stopwords')\n",
    "nltk.download('wordnet')\n",
    "print(\"Downloads complete.\")"
   ]
  },
  {
   "cell_type": "code",
   "execution_count": 2,
   "id": "b652c62c",
   "metadata": {},
   "outputs": [],
   "source": [
    "from nltk.corpus import stopwords\n",
    "from nltk.stem import WordNetLemmatizer\n",
    "from nltk.tokenize import word_tokenize\n",
    "\n",
    "lemmatizer = WordNetLemmatizer()\n",
    "stop_words = set(stopwords.words('english'))"
   ]
  },
  {
   "cell_type": "code",
   "execution_count": 3,
   "id": "d31b7aea",
   "metadata": {},
   "outputs": [
    {
     "name": "stdout",
     "output_type": "stream",
     "text": [
      "--- Original Corpus ---\n",
      "The quick brown fox wasn't that quick and he couldn't win the race.\n",
      "Hey that's a great deal! I just bought a phone for $199.\n",
      "@@You'll (learn) a**lot** in the book. Python is an amazing language!@@\n"
     ]
    }
   ],
   "source": [
    "corpus = [\n",
    "    \"The quick brown fox wasn't that quick and he couldn't win the race.\",\n",
    "    \"Hey that's a great deal! I just bought a phone for $199.\",\n",
    "    \"@@You'll (learn) a**lot** in the book. Python is an amazing language!@@\"\n",
    "]\n",
    "\n",
    "print(\"--- Original Corpus ---\")\n",
    "for doc in corpus:\n",
    "    print(doc)"
   ]
  },
  {
   "cell_type": "code",
   "execution_count": 4,
   "id": "292b942f",
   "metadata": {},
   "outputs": [],
   "source": [
    "def normalize_document(doc):\n",
    "    tokens = word_tokenize(doc)\n",
    "    \n",
    "    clean_tokens = [word.lower() for word in tokens if word.isalpha()]\n",
    "    \n",
    "    filtered_tokens = [word for word in clean_tokens if word not in stop_words]\n",
    "    \n",
    "    lemmatized_tokens = [lemmatizer.lemmatize(word) for word in filtered_tokens]\n",
    "    \n",
    "    return lemmatized_tokens"
   ]
  },
  {
   "cell_type": "code",
   "execution_count": 5,
   "id": "8a20529c",
   "metadata": {},
   "outputs": [
    {
     "name": "stdout",
     "output_type": "stream",
     "text": [
      "--- Normalization Results ---\n",
      "Original:  The quick brown fox wasn't that quick and he couldn't win the race.\n",
      "Normalized: ['quick', 'brown', 'fox', 'quick', 'could', 'win', 'race']\n",
      "Original:  Hey that's a great deal! I just bought a phone for $199.\n",
      "Normalized: ['hey', 'great', 'deal', 'bought', 'phone']\n",
      "Original:  @@You'll (learn) a**lot** in the book. Python is an amazing language!@@\n",
      "Normalized: ['learn', 'lot', 'book', 'python', 'amazing', 'language']\n"
     ]
    }
   ],
   "source": [
    "print(\"--- Normalization Results ---\")\n",
    "normalized_corpus = []\n",
    "for doc in corpus:\n",
    "    normalized_tokens = normalize_document(doc)\n",
    "    normalized_corpus.append(normalized_tokens)\n",
    "    \n",
    "    print(f\"Original:  {doc}\")\n",
    "    print(f\"Normalized: {normalized_tokens}\")"
   ]
  },
  {
   "cell_type": "code",
   "execution_count": null,
   "id": "938d3c87",
   "metadata": {},
   "outputs": [],
   "source": []
  }
 ],
 "metadata": {
  "kernelspec": {
   "display_name": "Python 3",
   "language": "python",
   "name": "python3"
  },
  "language_info": {
   "codemirror_mode": {
    "name": "ipython",
    "version": 3
   },
   "file_extension": ".py",
   "mimetype": "text/x-python",
   "name": "python",
   "nbconvert_exporter": "python",
   "pygments_lexer": "ipython3",
   "version": "3.11.9"
  }
 },
 "nbformat": 4,
 "nbformat_minor": 5
}
