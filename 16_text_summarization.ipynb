{
 "cells": [
  {
   "cell_type": "code",
   "execution_count": 1,
   "id": "85b7823c",
   "metadata": {},
   "outputs": [
    {
     "name": "stdout",
     "output_type": "stream",
     "text": [
      "Downloading NLTK resources...\n",
      "Downloads complete.\n"
     ]
    },
    {
     "name": "stderr",
     "output_type": "stream",
     "text": [
      "[nltk_data] Downloading package punkt to\n",
      "[nltk_data]     C:\\Users\\tarru\\AppData\\Roaming\\nltk_data...\n",
      "[nltk_data]   Package punkt is already up-to-date!\n",
      "[nltk_data] Downloading package stopwords to\n",
      "[nltk_data]     C:\\Users\\tarru\\AppData\\Roaming\\nltk_data...\n",
      "[nltk_data]   Package stopwords is already up-to-date!\n"
     ]
    }
   ],
   "source": [
    "import nltk\n",
    "\n",
    "print(\"Downloading NLTK resources...\")\n",
    "nltk.download('punkt')\n",
    "nltk.download('stopwords')\n",
    "print(\"Downloads complete.\")"
   ]
  },
  {
   "cell_type": "code",
   "execution_count": 2,
   "id": "653c8b3a",
   "metadata": {},
   "outputs": [],
   "source": [
    "from nltk.corpus import stopwords\n",
    "from nltk.tokenize import word_tokenize, sent_tokenize"
   ]
  },
  {
   "cell_type": "code",
   "execution_count": 3,
   "id": "bd9357cf",
   "metadata": {},
   "outputs": [
    {
     "name": "stdout",
     "output_type": "stream",
     "text": [
      "--- Original Text ---\n",
      "The Elder Scrolls V: Skyrim is an open world action role-playing video game \n",
      "developed by Bethesda Game Studios and published by Bethesda Softworks. \n",
      "It is the fifth installment in The Elder Scrolls series, following \n",
      "The Elder Scrolls IV: Oblivion. Skyrim's main story revolves around \n",
      "the player character and their effort to defeat Alduin the World-Eater, \n",
      "a dragon who is prophesied to destroy the world. \n",
      "The game is set two hundred years after the events of Oblivion \n",
      "and takes place in the fictional province of Skyrim. The player completes quests \n",
      "and develops the character by improving skills. \n",
      "Skyrim continues the open world tradition of its predecessors by allowing the \n",
      "player to travel anywhere in the game world at any time, and to \n",
      "ignore or postpone the main storyline indefinitely. The player may freely roam \n",
      "over the land of Skyrim, which is an open world environment consisting \n",
      "of wilderness expanses, dungeons, cities, towns, fortresses and villages. \n",
      "Players may navigate the game world more quickly by riding horses, \n",
      "or by utilizing a fast-travel system which allows them to warp to previously \n",
      "discovered locations. Players have the option to develop their character. \n",
      "At the beginning of the game, \n",
      "players create their character by selecting one of several races, \n",
      "including humans, orcs, elves and anthropomorphic cat or lizard-like creatures, \n",
      "and then customizing their character's appearance. Over the \n",
      "course of the game, players improve their character's skills, which are numerical \n",
      "representations of their ability in certain areas. \n",
      "There are eighteen skills \n",
      "divided evenly among the three schools of combat, magic, and stealth. \n",
      "Skyrim is the first entry in The Elder Scrolls to include Dragons in the game's \n",
      "wilderness. Like other creatures, Dragons are generated randomly in the world \n",
      "and will engage in combat.\n"
     ]
    }
   ],
   "source": [
    "text = \"\"\"The Elder Scrolls V: Skyrim is an open world action role-playing video game \n",
    "developed by Bethesda Game Studios and published by Bethesda Softworks. \n",
    "It is the fifth installment in The Elder Scrolls series, following \n",
    "The Elder Scrolls IV: Oblivion. Skyrim's main story revolves around \n",
    "the player character and their effort to defeat Alduin the World-Eater, \n",
    "a dragon who is prophesied to destroy the world. \n",
    "The game is set two hundred years after the events of Oblivion \n",
    "and takes place in the fictional province of Skyrim. The player completes quests \n",
    "and develops the character by improving skills. \n",
    "Skyrim continues the open world tradition of its predecessors by allowing the \n",
    "player to travel anywhere in the game world at any time, and to \n",
    "ignore or postpone the main storyline indefinitely. The player may freely roam \n",
    "over the land of Skyrim, which is an open world environment consisting \n",
    "of wilderness expanses, dungeons, cities, towns, fortresses and villages. \n",
    "Players may navigate the game world more quickly by riding horses, \n",
    "or by utilizing a fast-travel system which allows them to warp to previously \n",
    "discovered locations. Players have the option to develop their character. \n",
    "At the beginning of the game, \n",
    "players create their character by selecting one of several races, \n",
    "including humans, orcs, elves and anthropomorphic cat or lizard-like creatures, \n",
    "and then customizing their character's appearance. Over the \n",
    "course of the game, players improve their character's skills, which are numerical \n",
    "representations of their ability in certain areas. \n",
    "There are eighteen skills \n",
    "divided evenly among the three schools of combat, magic, and stealth. \n",
    "Skyrim is the first entry in The Elder Scrolls to include Dragons in the game's \n",
    "wilderness. Like other creatures, Dragons are generated randomly in the world \n",
    "and will engage in combat.\"\"\"\n",
    "\n",
    "print(\"--- Original Text ---\")\n",
    "print(text)"
   ]
  },
  {
   "cell_type": "code",
   "execution_count": 4,
   "id": "28fe4b70",
   "metadata": {},
   "outputs": [
    {
     "name": "stdout",
     "output_type": "stream",
     "text": [
      "--- Word Frequency Table (Sample) ---\n",
      "[('elder', 4), ('scrolls', 4), ('v', 1), (':', 2), ('skyrim', 6), ('open', 3), ('world', 7), ('action', 1), ('role-playing', 1), ('video', 1)]\n"
     ]
    }
   ],
   "source": [
    "stopWords = set(stopwords.words(\"english\"))\n",
    "\n",
    "words = word_tokenize(text)\n",
    "\n",
    "freqTable = dict()\n",
    "for word in words:\n",
    "    word = word.lower()\n",
    "    if word in stopWords:\n",
    "        continue\n",
    "    if word in freqTable:\n",
    "        freqTable[word] += 1\n",
    "    else:\n",
    "        freqTable[word] = 1\n",
    "\n",
    "print(\"--- Word Frequency Table (Sample) ---\")\n",
    "print(list(freqTable.items())[:10])"
   ]
  },
  {
   "cell_type": "code",
   "execution_count": 5,
   "id": "6f30f63a",
   "metadata": {},
   "outputs": [],
   "source": [
    "sentences = sent_tokenize(text)\n",
    "\n",
    "sentenceValue = dict()\n",
    "\n",
    "for sentence in sentences:\n",
    "    for word, freq in freqTable.items():\n",
    "        if word in sentence.lower():\n",
    "            if sentence in sentenceValue:\n",
    "                sentenceValue[sentence] += freq\n",
    "            else:\n",
    "                sentenceValue[sentence] = freq"
   ]
  },
  {
   "cell_type": "code",
   "execution_count": 6,
   "id": "133aaf21",
   "metadata": {},
   "outputs": [],
   "source": [
    "sumValues = 0\n",
    "for sentence in sentenceValue:\n",
    "    sumValues += sentenceValue[sentence]\n",
    "\n",
    "average = int(sumValues / len(sentenceValue))\n",
    "\n",
    "threshold = int(average * 1.2)\n",
    "\n",
    "summary = ''\n",
    "for sentence in sentences:\n",
    "    if (sentence in sentenceValue) and (sentenceValue[sentence] > threshold):\n",
    "        summary += \" \" + sentence"
   ]
  },
  {
   "cell_type": "code",
   "execution_count": 7,
   "id": "987a7754",
   "metadata": {},
   "outputs": [
    {
     "name": "stdout",
     "output_type": "stream",
     "text": [
      "--- Comparison ---\n",
      "Original text length (characters): 1856\n",
      "Summary text length (characters):  1071\n",
      "\n",
      "--- Generated Summary ---\n",
      " Skyrim's main story revolves around \n",
      "the player character and their effort to defeat Alduin the World-Eater, \n",
      "a dragon who is prophesied to destroy the world. Skyrim continues the open world tradition of its predecessors by allowing the \n",
      "player to travel anywhere in the game world at any time, and to \n",
      "ignore or postpone the main storyline indefinitely. The player may freely roam \n",
      "over the land of Skyrim, which is an open world environment consisting \n",
      "of wilderness expanses, dungeons, cities, towns, fortresses and villages. Players may navigate the game world more quickly by riding horses, \n",
      "or by utilizing a fast-travel system which allows them to warp to previously \n",
      "discovered locations. At the beginning of the game, \n",
      "players create their character by selecting one of several races, \n",
      "including humans, orcs, elves and anthropomorphic cat or lizard-like creatures, \n",
      "and then customizing their character's appearance. Over the \n",
      "course of the game, players improve their character's skills, which are numerical \n",
      "representations of their ability in certain areas.\n"
     ]
    }
   ],
   "source": [
    "print(\"--- Comparison ---\")\n",
    "print(f\"Original text length (characters): {len(text)}\")\n",
    "print(f\"Summary text length (characters):  {len(summary)}\")\n",
    "\n",
    "print(\"\\n--- Generated Summary ---\")\n",
    "print(summary)"
   ]
  },
  {
   "cell_type": "code",
   "execution_count": null,
   "id": "69519add",
   "metadata": {},
   "outputs": [],
   "source": []
  }
 ],
 "metadata": {
  "kernelspec": {
   "display_name": "Python 3",
   "language": "python",
   "name": "python3"
  },
  "language_info": {
   "codemirror_mode": {
    "name": "ipython",
    "version": 3
   },
   "file_extension": ".py",
   "mimetype": "text/x-python",
   "name": "python",
   "nbconvert_exporter": "python",
   "pygments_lexer": "ipython3",
   "version": "3.11.9"
  }
 },
 "nbformat": 4,
 "nbformat_minor": 5
}
