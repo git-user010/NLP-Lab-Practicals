{
 "cells": [
  {
   "cell_type": "code",
   "execution_count": 1,
   "id": "db3799ea",
   "metadata": {},
   "outputs": [
    {
     "name": "stdout",
     "output_type": "stream",
     "text": [
      "Downloading NLTK resources...\n",
      "Downloads complete.\n"
     ]
    },
    {
     "name": "stderr",
     "output_type": "stream",
     "text": [
      "[nltk_data] Downloading package punkt to\n",
      "[nltk_data]     C:\\Users\\tarru\\AppData\\Roaming\\nltk_data...\n",
      "[nltk_data]   Package punkt is already up-to-date!\n",
      "[nltk_data] Downloading package stopwords to\n",
      "[nltk_data]     C:\\Users\\tarru\\AppData\\Roaming\\nltk_data...\n",
      "[nltk_data]   Package stopwords is already up-to-date!\n",
      "[nltk_data] Downloading package wordnet to\n",
      "[nltk_data]     C:\\Users\\tarru\\AppData\\Roaming\\nltk_data...\n",
      "[nltk_data]   Package wordnet is already up-to-date!\n"
     ]
    }
   ],
   "source": [
    "# !pip install nltk scikit-learn pandas\n",
    "\n",
    "import nltk\n",
    "import re\n",
    "import pandas as pd\n",
    "\n",
    "print(\"Downloading NLTK resources...\")\n",
    "nltk.download('punkt')\n",
    "nltk.download('stopwords')\n",
    "nltk.download('wordnet')\n",
    "print(\"Downloads complete.\")"
   ]
  },
  {
   "cell_type": "code",
   "execution_count": 2,
   "id": "ddf159d1",
   "metadata": {},
   "outputs": [],
   "source": [
    "from nltk.corpus import stopwords\n",
    "from nltk.stem import WordNetLemmatizer\n",
    "from nltk.tokenize import word_tokenize\n",
    "from sklearn.feature_extraction.text import CountVectorizer\n",
    "\n",
    "lemmatizer = WordNetLemmatizer()\n",
    "stop_words = set(stopwords.words('english'))"
   ]
  },
  {
   "cell_type": "code",
   "execution_count": 3,
   "id": "ffbb179d",
   "metadata": {},
   "outputs": [
    {
     "name": "stdout",
     "output_type": "stream",
     "text": [
      "--- Raw Text ---\n",
      "\n",
      "Text analytics is the process of deriving high-quality information from text. \n",
      "It involves structuring the input text, deriving patterns within the structured data, \n",
      "and finally, the interpretation and evaluation of the output. \n",
      "High-quality information is typically derived through the devising of patterns and trends.\n",
      "\n"
     ]
    }
   ],
   "source": [
    "raw_text = \"\"\"\n",
    "Text analytics is the process of deriving high-quality information from text. \n",
    "It involves structuring the input text, deriving patterns within the structured data, \n",
    "and finally, the interpretation and evaluation of the output. \n",
    "High-quality information is typically derived through the devising of patterns and trends.\n",
    "\"\"\"\n",
    "\n",
    "print(\"--- Raw Text ---\")\n",
    "print(raw_text)"
   ]
  },
  {
   "cell_type": "code",
   "execution_count": 4,
   "id": "9588e4fe",
   "metadata": {},
   "outputs": [
    {
     "name": "stdout",
     "output_type": "stream",
     "text": [
      "1. Tokens (lowercase): \n",
      "['text', 'analytics', 'is', 'the', 'process', 'of', 'deriving', 'high-quality', 'information', 'from', 'text', '.', 'it', 'involves', 'structuring', 'the', 'input', 'text', ',', 'deriving', 'patterns', 'within', 'the', 'structured', 'data', ',', 'and', 'finally', ',', 'the', 'interpretation', 'and', 'evaluation', 'of', 'the', 'output', '.', 'high-quality', 'information', 'is', 'typically', 'derived', 'through', 'the', 'devising', 'of', 'patterns', 'and', 'trends', '.']\n",
      "\n",
      "2. Words (no punctuation): \n",
      "['text', 'analytics', 'is', 'the', 'process', 'of', 'deriving', 'information', 'from', 'text', 'it', 'involves', 'structuring', 'the', 'input', 'text', 'deriving', 'patterns', 'within', 'the', 'structured', 'data', 'and', 'finally', 'the', 'interpretation', 'and', 'evaluation', 'of', 'the', 'output', 'information', 'is', 'typically', 'derived', 'through', 'the', 'devising', 'of', 'patterns', 'and', 'trends']\n",
      "\n",
      "3. Words (no stop words): \n",
      "['text', 'analytics', 'process', 'deriving', 'information', 'text', 'involves', 'structuring', 'input', 'text', 'deriving', 'patterns', 'within', 'structured', 'data', 'finally', 'interpretation', 'evaluation', 'output', 'information', 'typically', 'derived', 'devising', 'patterns', 'trends']\n",
      "\n",
      "4. Lemmatized Words (final clean text): \n",
      "['text', 'analytics', 'process', 'deriving', 'information', 'text', 'involves', 'structuring', 'input', 'text', 'deriving', 'pattern', 'within', 'structured', 'data', 'finally', 'interpretation', 'evaluation', 'output', 'information', 'typically', 'derived', 'devising', 'pattern', 'trend']\n",
      "\n"
     ]
    }
   ],
   "source": [
    "tokens = word_tokenize(raw_text.lower())\n",
    "print(f\"1. Tokens (lowercase): \\n{tokens}\\n\")\n",
    "\n",
    "words = [word for word in tokens if word.isalpha()]\n",
    "print(f\"2. Words (no punctuation): \\n{words}\\n\")\n",
    "\n",
    "words_no_stopwords = [word for word in words if word not in stop_words]\n",
    "print(f\"3. Words (no stop words): \\n{words_no_stopwords}\\n\")\n",
    "\n",
    "lemmatized_words = [lemmatizer.lemmatize(word) for word in words_no_stopwords]\n",
    "print(f\"4. Lemmatized Words (final clean text): \\n{lemmatized_words}\\n\")\n",
    "\n",
    "processed_text = \" \".join(lemmatized_words)"
   ]
  },
  {
   "cell_type": "code",
   "execution_count": 5,
   "id": "471283db",
   "metadata": {},
   "outputs": [
    {
     "name": "stdout",
     "output_type": "stream",
     "text": [
      "--- Bag-of-Words Feature Vector ---\n"
     ]
    },
    {
     "data": {
      "text/html": [
       "<div>\n",
       "<style scoped>\n",
       "    .dataframe tbody tr th:only-of-type {\n",
       "        vertical-align: middle;\n",
       "    }\n",
       "\n",
       "    .dataframe tbody tr th {\n",
       "        vertical-align: top;\n",
       "    }\n",
       "\n",
       "    .dataframe thead th {\n",
       "        text-align: right;\n",
       "    }\n",
       "</style>\n",
       "<table border=\"1\" class=\"dataframe\">\n",
       "  <thead>\n",
       "    <tr style=\"text-align: right;\">\n",
       "      <th></th>\n",
       "      <th>analytics</th>\n",
       "      <th>data</th>\n",
       "      <th>derived</th>\n",
       "      <th>deriving</th>\n",
       "      <th>devising</th>\n",
       "      <th>evaluation</th>\n",
       "      <th>finally</th>\n",
       "      <th>information</th>\n",
       "      <th>input</th>\n",
       "      <th>interpretation</th>\n",
       "      <th>involves</th>\n",
       "      <th>output</th>\n",
       "      <th>pattern</th>\n",
       "      <th>process</th>\n",
       "      <th>structured</th>\n",
       "      <th>structuring</th>\n",
       "      <th>text</th>\n",
       "      <th>trend</th>\n",
       "      <th>typically</th>\n",
       "      <th>within</th>\n",
       "    </tr>\n",
       "  </thead>\n",
       "  <tbody>\n",
       "    <tr>\n",
       "      <th>0</th>\n",
       "      <td>1</td>\n",
       "      <td>1</td>\n",
       "      <td>1</td>\n",
       "      <td>2</td>\n",
       "      <td>1</td>\n",
       "      <td>1</td>\n",
       "      <td>1</td>\n",
       "      <td>2</td>\n",
       "      <td>1</td>\n",
       "      <td>1</td>\n",
       "      <td>1</td>\n",
       "      <td>1</td>\n",
       "      <td>2</td>\n",
       "      <td>1</td>\n",
       "      <td>1</td>\n",
       "      <td>1</td>\n",
       "      <td>3</td>\n",
       "      <td>1</td>\n",
       "      <td>1</td>\n",
       "      <td>1</td>\n",
       "    </tr>\n",
       "  </tbody>\n",
       "</table>\n",
       "</div>"
      ],
      "text/plain": [
       "   analytics  data  derived  deriving  devising  evaluation  finally  \\\n",
       "0          1     1        1         2         1           1        1   \n",
       "\n",
       "   information  input  interpretation  involves  output  pattern  process  \\\n",
       "0            2      1               1         1       1        2        1   \n",
       "\n",
       "   structured  structuring  text  trend  typically  within  \n",
       "0           1            1     3      1          1       1  "
      ]
     },
     "execution_count": 5,
     "metadata": {},
     "output_type": "execute_result"
    }
   ],
   "source": [
    "corpus = [processed_text]\n",
    "\n",
    "vectorizer = CountVectorizer()\n",
    "X = vectorizer.fit_transform(corpus)\n",
    "\n",
    "feature_names = vectorizer.get_feature_names_out()\n",
    "\n",
    "df_bow = pd.DataFrame(X.toarray(), columns=feature_names)\n",
    "\n",
    "print(\"--- Bag-of-Words Feature Vector ---\")\n",
    "df_bow"
   ]
  },
  {
   "cell_type": "code",
   "execution_count": 6,
   "id": "cae34149",
   "metadata": {},
   "outputs": [
    {
     "name": "stdout",
     "output_type": "stream",
     "text": [
      "--- Word Frequency Analysis ---\n",
      "Most common words in the text:\n"
     ]
    },
    {
     "data": {
      "text/plain": [
       "[('text', 3),\n",
       " ('deriving', 2),\n",
       " ('information', 2),\n",
       " ('pattern', 2),\n",
       " ('analytics', 1)]"
      ]
     },
     "execution_count": 6,
     "metadata": {},
     "output_type": "execute_result"
    }
   ],
   "source": [
    "freq_dist = nltk.FreqDist(lemmatized_words)\n",
    "\n",
    "print(\"--- Word Frequency Analysis ---\")\n",
    "print(\"Most common words in the text:\")\n",
    "freq_dist.most_common(5)"
   ]
  },
  {
   "cell_type": "code",
   "execution_count": null,
   "id": "6333d21c",
   "metadata": {},
   "outputs": [],
   "source": []
  }
 ],
 "metadata": {
  "kernelspec": {
   "display_name": "Python 3",
   "language": "python",
   "name": "python3"
  },
  "language_info": {
   "codemirror_mode": {
    "name": "ipython",
    "version": 3
   },
   "file_extension": ".py",
   "mimetype": "text/x-python",
   "name": "python",
   "nbconvert_exporter": "python",
   "pygments_lexer": "ipython3",
   "version": "3.11.9"
  }
 },
 "nbformat": 4,
 "nbformat_minor": 5
}
