{
 "cells": [
  {
   "cell_type": "code",
   "execution_count": 1,
   "id": "29a9d916",
   "metadata": {},
   "outputs": [
    {
     "name": "stdout",
     "output_type": "stream",
     "text": [
      "Downloading NLTK resources...\n",
      "Downloads complete.\n"
     ]
    },
    {
     "name": "stderr",
     "output_type": "stream",
     "text": [
      "[nltk_data] Downloading package punkt to\n",
      "[nltk_data]     C:\\Users\\tarru\\AppData\\Roaming\\nltk_data...\n",
      "[nltk_data]   Package punkt is already up-to-date!\n",
      "[nltk_data] Downloading package stopwords to\n",
      "[nltk_data]     C:\\Users\\tarru\\AppData\\Roaming\\nltk_data...\n",
      "[nltk_data]   Package stopwords is already up-to-date!\n",
      "[nltk_data] Downloading package wordnet to\n",
      "[nltk_data]     C:\\Users\\tarru\\AppData\\Roaming\\nltk_data...\n",
      "[nltk_data]   Package wordnet is already up-to-date!\n"
     ]
    }
   ],
   "source": [
    "import nltk\n",
    "\n",
    "print(\"Downloading NLTK resources...\")\n",
    "nltk.download('punkt')\n",
    "nltk.download('stopwords')\n",
    "nltk.download('wordnet')\n",
    "print(\"Downloads complete.\")"
   ]
  },
  {
   "cell_type": "code",
   "execution_count": 2,
   "id": "1fa3e339",
   "metadata": {},
   "outputs": [
    {
     "name": "stdout",
     "output_type": "stream",
     "text": [
      "Original Text: 'The quick brown foxes are jumping over the lazy dogs. They were the best jumpers!'\n",
      "\n",
      "Original Tokens: ['The', 'quick', 'brown', 'foxes', 'are', 'jumping', 'over', 'the', 'lazy', 'dogs', '.', 'They', 'were', 'the', 'best', 'jumpers', '!']\n",
      "\n"
     ]
    }
   ],
   "source": [
    "from nltk.corpus import stopwords\n",
    "from nltk.stem import PorterStemmer, WordNetLemmatizer\n",
    "from nltk.tokenize import word_tokenize\n",
    "\n",
    "text = \"The quick brown foxes are jumping over the lazy dogs. They were the best jumpers!\"\n",
    "print(f\"Original Text: '{text}'\\n\")\n",
    "\n",
    "tokens = word_tokenize(text)\n",
    "print(f\"Original Tokens: {tokens}\\n\")"
   ]
  },
  {
   "cell_type": "code",
   "execution_count": 3,
   "id": "84e90486",
   "metadata": {},
   "outputs": [
    {
     "name": "stdout",
     "output_type": "stream",
     "text": [
      "1. Lowercase Tokens: ['the', 'quick', 'brown', 'foxes', 'are', 'jumping', 'over', 'the', 'lazy', 'dogs', '.', 'they', 'were', 'the', 'best', 'jumpers', '!']\n",
      "\n",
      "2. Tokens after Stop Word Removal: ['quick', 'brown', 'foxes', 'jumping', 'lazy', 'dogs', 'best', 'jumpers']\n",
      "\n"
     ]
    }
   ],
   "source": [
    "lower_tokens = [t.lower() for t in tokens]\n",
    "print(f\"1. Lowercase Tokens: {lower_tokens}\\n\")\n",
    "\n",
    "stop_words = set(stopwords.words('english'))\n",
    "filtered_tokens = [word for word in lower_tokens if word.isalpha() and word not in stop_words]\n",
    "print(f\"2. Tokens after Stop Word Removal: {filtered_tokens}\\n\")"
   ]
  },
  {
   "cell_type": "code",
   "execution_count": 4,
   "id": "14367291",
   "metadata": {},
   "outputs": [
    {
     "name": "stdout",
     "output_type": "stream",
     "text": [
      "3. Stemmed Tokens: ['quick', 'brown', 'fox', 'jump', 'lazi', 'dog', 'best', 'jumper']\n",
      "\n",
      "4. Lemmatized Tokens: ['quick', 'brown', 'fox', 'jumping', 'lazy', 'dog', 'best', 'jumper']\n",
      "\n"
     ]
    }
   ],
   "source": [
    "stemmer = PorterStemmer()\n",
    "stemmed_tokens = [stemmer.stem(word) for word in filtered_tokens]\n",
    "print(f\"3. Stemmed Tokens: {stemmed_tokens}\\n\")\n",
    "\n",
    "lemmatizer = WordNetLemmatizer()\n",
    "lemmatized_tokens = [lemmatizer.lemmatize(word) for word in filtered_tokens]\n",
    "print(f\"4. Lemmatized Tokens: {lemmatized_tokens}\\n\")"
   ]
  },
  {
   "cell_type": "code",
   "execution_count": null,
   "id": "68152ed4",
   "metadata": {},
   "outputs": [],
   "source": []
  }
 ],
 "metadata": {
  "kernelspec": {
   "display_name": "Python 3",
   "language": "python",
   "name": "python3"
  },
  "language_info": {
   "codemirror_mode": {
    "name": "ipython",
    "version": 3
   },
   "file_extension": ".py",
   "mimetype": "text/x-python",
   "name": "python",
   "nbconvert_exporter": "python",
   "pygments_lexer": "ipython3",
   "version": "3.11.9"
  }
 },
 "nbformat": 4,
 "nbformat_minor": 5
}
