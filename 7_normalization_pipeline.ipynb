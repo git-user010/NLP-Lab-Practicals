{
 "cells": [
  {
   "cell_type": "code",
   "execution_count": 1,
   "id": "22316ed2",
   "metadata": {},
   "outputs": [
    {
     "name": "stdout",
     "output_type": "stream",
     "text": [
      "Downloading NLTK resources...\n",
      "Downloads complete.\n"
     ]
    },
    {
     "name": "stderr",
     "output_type": "stream",
     "text": [
      "[nltk_data] Downloading package punkt to\n",
      "[nltk_data]     C:\\Users\\tarru\\AppData\\Roaming\\nltk_data...\n",
      "[nltk_data]   Package punkt is already up-to-date!\n",
      "[nltk_data] Downloading package wordnet to\n",
      "[nltk_data]     C:\\Users\\tarru\\AppData\\Roaming\\nltk_data...\n",
      "[nltk_data]   Package wordnet is already up-to-date!\n"
     ]
    }
   ],
   "source": [
    "import nltk\n",
    "\n",
    "print(\"Downloading NLTK resources...\")\n",
    "nltk.download('punkt')\n",
    "nltk.download('wordnet')\n",
    "print(\"Downloads complete.\")"
   ]
  },
  {
   "cell_type": "code",
   "execution_count": 2,
   "id": "4d9cbb83",
   "metadata": {},
   "outputs": [],
   "source": [
    "from nltk.stem import PorterStemmer, WordNetLemmatizer\n",
    "from nltk.tokenize import word_tokenize\n",
    "import re"
   ]
  },
  {
   "cell_type": "code",
   "execution_count": 3,
   "id": "3e068612",
   "metadata": {},
   "outputs": [
    {
     "name": "stdout",
     "output_type": "stream",
     "text": [
      "--- Original Corpus ---\n",
      "He wasn't studying, but he's a great learner.\n",
      "I've been told they're the best players.\n",
      "It's a beautiful day; let's not waste it.\n"
     ]
    }
   ],
   "source": [
    "corpus = [\n",
    "    \"He wasn't studying, but he's a great learner.\",\n",
    "    \"I've been told they're the best players.\",\n",
    "    \"It's a beautiful day; let's not waste it.\"\n",
    "]\n",
    "\n",
    "contractions_map = {\n",
    "    \"wasn't\": \"was not\",\n",
    "    \"he's\": \"he is\",\n",
    "    \"i've\": \"i have\",\n",
    "    \"they're\": \"they are\",\n",
    "    \"it's\": \"it is\",\n",
    "    \"let's\": \"let us\"\n",
    "}\n",
    "\n",
    "print(\"--- Original Corpus ---\")\n",
    "for doc in corpus:\n",
    "    print(doc)"
   ]
  },
  {
   "cell_type": "code",
   "execution_count": 4,
   "id": "a07b7d8b",
   "metadata": {},
   "outputs": [
    {
     "name": "stdout",
     "output_type": "stream",
     "text": [
      "--- Corpus After Contraction Expansion ---\n",
      "He was not studying, but he is a great learner.\n",
      "i have been told they are the best players.\n",
      "it is a beautiful day; let us not waste it.\n"
     ]
    }
   ],
   "source": [
    "def expand_contractions(text, contractions_map):\n",
    "    for contraction, expansion in contractions_map.items():\n",
    "        text = re.sub(r'\\b' + re.escape(contraction) + r'\\b', expansion, text, flags=re.IGNORECASE)\n",
    "    return text\n",
    "\n",
    "expanded_corpus = [expand_contractions(doc, contractions_map) for doc in corpus]\n",
    "\n",
    "print(\"--- Corpus After Contraction Expansion ---\")\n",
    "for doc in expanded_corpus:\n",
    "    print(doc)"
   ]
  },
  {
   "cell_type": "code",
   "execution_count": 5,
   "id": "8a84707c",
   "metadata": {},
   "outputs": [
    {
     "name": "stdout",
     "output_type": "stream",
     "text": [
      "--- Stemming Results ---\n",
      "\n",
      "Original Expanded: He was not studying, but he is a great learner.\n",
      "Stemmed Tokens:    he wa not studi , but he is a great learner .\n",
      "\n",
      "Original Expanded: i have been told they are the best players.\n",
      "Stemmed Tokens:    i have been told they are the best player .\n",
      "\n",
      "Original Expanded: it is a beautiful day; let us not waste it.\n",
      "Stemmed Tokens:    it is a beauti day ; let us not wast it .\n"
     ]
    }
   ],
   "source": [
    "stemmer = PorterStemmer()\n",
    "\n",
    "print(\"--- Stemming Results ---\")\n",
    "for doc in expanded_corpus:\n",
    "    tokens = word_tokenize(doc)\n",
    "    stemmed_tokens = [stemmer.stem(word) for word in tokens]\n",
    "    \n",
    "    print(f\"\\nOriginal Expanded: {doc}\")\n",
    "    print(f\"Stemmed Tokens:    {' '.join(stemmed_tokens)}\")"
   ]
  },
  {
   "cell_type": "code",
   "execution_count": 6,
   "id": "56fe916e",
   "metadata": {},
   "outputs": [
    {
     "name": "stdout",
     "output_type": "stream",
     "text": [
      "--- Lemmatization Results ---\n",
      "\n",
      "Original Expanded: He was not studying, but he is a great learner.\n",
      "Lemmatized Tokens: He be not study , but he be a great learner .\n",
      "\n",
      "Original Expanded: i have been told they are the best players.\n",
      "Lemmatized Tokens: i have be tell they be the best players .\n",
      "\n",
      "Original Expanded: it is a beautiful day; let us not waste it.\n",
      "Lemmatized Tokens: it be a beautiful day ; let us not waste it .\n"
     ]
    }
   ],
   "source": [
    "lemmatizer = WordNetLemmatizer()\n",
    "\n",
    "print(\"--- Lemmatization Results ---\")\n",
    "for doc in expanded_corpus:\n",
    "    tokens = word_tokenize(doc)\n",
    "    lemmatized_tokens = [lemmatizer.lemmatize(word, pos='v') for word in tokens]\n",
    "    \n",
    "    print(f\"\\nOriginal Expanded: {doc}\")\n",
    "    print(f\"Lemmatized Tokens: {' '.join(lemmatized_tokens)}\")"
   ]
  },
  {
   "cell_type": "code",
   "execution_count": null,
   "id": "ebfe3610",
   "metadata": {},
   "outputs": [],
   "source": []
  }
 ],
 "metadata": {
  "kernelspec": {
   "display_name": "Python 3",
   "language": "python",
   "name": "python3"
  },
  "language_info": {
   "codemirror_mode": {
    "name": "ipython",
    "version": 3
   },
   "file_extension": ".py",
   "mimetype": "text/x-python",
   "name": "python",
   "nbconvert_exporter": "python",
   "pygments_lexer": "ipython3",
   "version": "3.11.9"
  }
 },
 "nbformat": 4,
 "nbformat_minor": 5
}
