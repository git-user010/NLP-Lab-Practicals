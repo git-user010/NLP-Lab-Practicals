{
 "cells": [
  {
   "cell_type": "code",
   "execution_count": 1,
   "id": "374bf863",
   "metadata": {},
   "outputs": [
    {
     "name": "stdout",
     "output_type": "stream",
     "text": [
      "Downloading NLTK resources...\n",
      "Downloads complete.\n"
     ]
    },
    {
     "name": "stderr",
     "output_type": "stream",
     "text": [
      "[nltk_data] Downloading package reuters to\n",
      "[nltk_data]     C:\\Users\\tarru\\AppData\\Roaming\\nltk_data...\n",
      "[nltk_data]   Package reuters is already up-to-date!\n",
      "[nltk_data] Downloading package punkt to\n",
      "[nltk_data]     C:\\Users\\tarru\\AppData\\Roaming\\nltk_data...\n",
      "[nltk_data]   Package punkt is already up-to-date!\n",
      "[nltk_data] Downloading package averaged_perceptron_tagger to\n",
      "[nltk_data]     C:\\Users\\tarru\\AppData\\Roaming\\nltk_data...\n",
      "[nltk_data]   Package averaged_perceptron_tagger is already up-to-\n",
      "[nltk_data]       date!\n"
     ]
    }
   ],
   "source": [
    "import nltk\n",
    "\n",
    "print(\"Downloading NLTK resources...\")\n",
    "nltk.download('reuters')\n",
    "nltk.download('punkt')\n",
    "nltk.download('averaged_perceptron_tagger')\n",
    "print(\"Downloads complete.\")"
   ]
  },
  {
   "cell_type": "code",
   "execution_count": 2,
   "id": "c7f03d42",
   "metadata": {},
   "outputs": [
    {
     "name": "stdout",
     "output_type": "stream",
     "text": [
      "--- Categories in Reuters Corpus ---\n",
      "Total Categories: 90\n",
      "['acq', 'alum', 'barley', 'bop', 'carcass', 'castor-oil', 'cocoa', 'coconut', 'coconut-oil', 'coffee', 'copper', 'copra-cake', 'corn', 'cotton', 'cotton-oil', 'cpi', 'cpu', 'crude', 'dfl', 'dlr', 'dmk', 'earn', 'fuel', 'gas', 'gnp', 'gold', 'grain', 'groundnut', 'groundnut-oil', 'heat', 'hog', 'housing', 'income', 'instal-debt', 'interest', 'ipi', 'iron-steel', 'jet', 'jobs', 'l-cattle', 'lead', 'lei', 'lin-oil', 'livestock', 'lumber', 'meal-feed', 'money-fx', 'money-supply', 'naphtha', 'nat-gas', 'nickel', 'nkr', 'nzdlr', 'oat', 'oilseed', 'orange', 'palladium', 'palm-oil', 'palmkernel', 'pet-chem', 'platinum', 'potato', 'propane', 'rand', 'rape-oil', 'rapeseed', 'reserves', 'retail', 'rice', 'rubber', 'rye', 'ship', 'silver', 'sorghum', 'soy-meal', 'soy-oil', 'soybean', 'strategic-metal', 'sugar', 'sun-meal', 'sun-oil', 'sunseed', 'tea', 'tin', 'trade', 'veg-oil', 'wheat', 'wpi', 'yen', 'zinc']\n"
     ]
    }
   ],
   "source": [
    "from nltk.corpus import reuters\n",
    "\n",
    "print('--- Categories in Reuters Corpus ---')\n",
    "print('Total Categories:', len(reuters.categories()))\n",
    "print(reuters.categories())"
   ]
  },
  {
   "cell_type": "code",
   "execution_count": 3,
   "id": "46f66dfc",
   "metadata": {},
   "outputs": [
    {
     "name": "stdout",
     "output_type": "stream",
     "text": [
      "--- Sentence Tokenization ---\n",
      "Total sentences in 'crude' category: 4680\n",
      "First 2 sentences: ['JAPAN TO REVISE LONG-TERM ENERGY DEMAND DOWNWARDS\\n  The Ministry of International Trade and\\n  Industry (MITI) will revise its long-term energy supply/demand\\n  outlook by August to meet a forecast downtrend in Japanese\\n  energy demand, ministry officials said.', 'MITI is expected to lower the projection for primary energy\\n  supplies in the year 2000 to 550 mln kilolitres (kl) from 600\\n  mln, they said.']\n"
     ]
    }
   ],
   "source": [
    "print(\"--- Sentence Tokenization ---\")\n",
    "crude_text = reuters.raw(categories='crude')\n",
    "sentences = nltk.sent_tokenize(crude_text)\n",
    "print(\"Total sentences in 'crude' category:\", len(sentences))\n",
    "print(\"First 2 sentences:\", sentences[:2])"
   ]
  },
  {
   "cell_type": "code",
   "execution_count": 4,
   "id": "f536c07c",
   "metadata": {},
   "outputs": [
    {
     "name": "stdout",
     "output_type": "stream",
     "text": [
      "--- Word Tokenization and POS Tagging ---\n",
      "First 10 tagged words: [('JAPAN', 'NNP'), ('TO', 'NNP'), ('REVISE', 'NNP'), ('LONG', 'NNP'), ('-', ':'), ('TERM', 'NNP'), ('ENERGY', 'NNP'), ('DEMAND', 'NNP'), ('DOWNWARDS', 'NNP'), ('The', 'DT')]\n"
     ]
    }
   ],
   "source": [
    "print(\"--- Word Tokenization and POS Tagging ---\")\n",
    "crude_words = reuters.words(categories='crude')\n",
    "tagged_words = nltk.pos_tag(crude_words)\n",
    "print(\"First 10 tagged words:\", tagged_words[:10])"
   ]
  },
  {
   "cell_type": "code",
   "execution_count": 5,
   "id": "e53220ea",
   "metadata": {},
   "outputs": [
    {
     "name": "stdout",
     "output_type": "stream",
     "text": [
      "--- Frequency Distribution ---\n",
      "Most common 15 words in 'crude' category:\n"
     ]
    },
    {
     "data": {
      "text/plain": [
       "[('.', 7291),\n",
       " ('the', 6586),\n",
       " (',', 5089),\n",
       " ('to', 3553),\n",
       " ('of', 2996),\n",
       " ('in', 2763),\n",
       " ('said', 2426),\n",
       " ('a', 2381),\n",
       " ('and', 2333),\n",
       " ('oil', 2246),\n",
       " ('s', 1651),\n",
       " ('for', 1172),\n",
       " (\"'\", 1079),\n",
       " ('-', 1026),\n",
       " ('mln', 1018)]"
      ]
     },
     "execution_count": 5,
     "metadata": {},
     "output_type": "execute_result"
    }
   ],
   "source": [
    "print(\"--- Frequency Distribution ---\")\n",
    "word_freq = nltk.FreqDist(w.lower() for w in crude_words)\n",
    "print(\"Most common 15 words in 'crude' category:\")\n",
    "word_freq.most_common(15)"
   ]
  },
  {
   "cell_type": "code",
   "execution_count": null,
   "id": "6ee46aac",
   "metadata": {},
   "outputs": [],
   "source": []
  }
 ],
 "metadata": {
  "kernelspec": {
   "display_name": "Python 3",
   "language": "python",
   "name": "python3"
  },
  "language_info": {
   "codemirror_mode": {
    "name": "ipython",
    "version": 3
   },
   "file_extension": ".py",
   "mimetype": "text/x-python",
   "name": "python",
   "nbconvert_exporter": "python",
   "pygments_lexer": "ipython3",
   "version": "3.11.9"
  }
 },
 "nbformat": 4,
 "nbformat_minor": 5
}
